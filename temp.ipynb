{
 "cells": [
  {
   "cell_type": "code",
   "execution_count": null,
   "metadata": {},
   "outputs": [],
   "source": [
    "import numpy as np\n",
    "import pandas as pd\n",
    "from sklearn import preprocessing\n",
    "from sklearn.model_selection import train_test_split\n",
    "from sklearn.utils import shuffle\n",
    "from sklearn.neural_network import MLPClassifier\n",
    "from sklearn.neural_network import MLPRegressor\n",
    "from sklearn.metrics import confusion_matrix,classification_report\n",
    "\n",
    "names=['fixed acidity', 'volatile acidity','citric acid','residual sugar','chlorides','free sulfur dioxide','total sulfur dioxide','density','ph','sulphates','alchol','quality']\n",
    "\n",
    "df=pd.read_csv(\"C:\\\\Users\\student\\Desktop\\python suhail\\wine+quality\\winequality-red.csv\",sep=';')\n",
    "#print(df.head)\n",
    "\n",
    "x=df.iloc[:,0:11]\n",
    "y=y=df[[\"quality\"]]\n",
    "\n",
    "#print(x)\n",
    "#print(y)\n",
    "\n",
    "#le=preprocessing.LabelEncoder()\n",
    "#y=y.apply(le.fit.transform)\n",
    "#print(y)\n",
    "\n",
    "X_train,X_test,Y_train,Y_test=train_test_split(x,y,test_size=0.20)\n",
    "\n",
    "#feature scaling\n",
    "\n",
    "scaler=preprocessing.StandardScaler().fit(X_train)\n",
    "X_train=scaler.transform(X_train)\n",
    "X_test=scaler.transform(X_test)\n",
    "\n",
    "#training and predications\n",
    "mlp=MLPClassifier(hidden_layer_sizes=(10,10,10),max_iter=1000)\n",
    "mlp.fit(X_train,Y_train.values.ravel())\n",
    "predications=mlp.predict(X_test)\n",
    "print(predications)\n",
    "\n",
    "print(confusion_matrix(Y_test,predications))\n",
    "print(classification_report(Y_test,predications))\n"
   ]
  }
 ],
 "metadata": {
  "language_info": {
   "name": "python"
  }
 },
 "nbformat": 4,
 "nbformat_minor": 2
}
